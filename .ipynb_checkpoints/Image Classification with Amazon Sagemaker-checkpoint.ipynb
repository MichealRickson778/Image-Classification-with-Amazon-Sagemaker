{
 "cells": [
  {
   "cell_type": "markdown",
   "id": "fa0b43e2-62dd-4a4a-b96f-3f1b725a939e",
   "metadata": {},
   "source": [
    "Download The Data¶"
   ]
  },
  {
   "cell_type": "code",
   "execution_count": null,
   "id": "36a6c623-8c80-4095-9441-1a1518d92ec6",
   "metadata": {},
   "outputs": [],
   "source": [
    "!pip3 install tqdm"
   ]
  },
  {
   "cell_type": "code",
   "execution_count": null,
   "id": "4e9438dc-46e8-4449-929b-8fb814d71f7b",
   "metadata": {},
   "outputs": [],
   "source": [
    "%matplotlib inline\n",
    "\n",
    "import os\n",
    "import tarfile\n",
    "import urllib\n",
    "import shutil\n",
    "import json\n",
    "import random\n",
    "import numpy as np\n",
    "import boto3\n",
    "import sagemaker\n",
    "import logging \n",
    "\n",
    "from tqdm import tqdm\n",
    "from sagemaker.amazon.amazon_estimator import get_image_uri\n",
    "from matplotlib import pyplot as plt\n",
    "\n",
    "urls = ['http://www.robots.ox.ac.uk/~vgg/data/pets/data/images.tar.gz',\n",
    "        'http://www.robots.ox.ac.uk/~vgg/data/pets/data/annotations.tar.gz']\n",
    "\n",
    "def download_and_extract(data_dir: str, download_dir: str):\n",
    "    \n",
    "    try:\n",
    "        for url in urls:\n",
    "            target_file = url.split('/')[-1]\n",
    "            if target_file not in os.listdir(download_dir):\n",
    "                logging.info(\"Downloading URL: {}\".format(url))\n",
    "                urllib.request.urlretrieve(url, os.path.join(download_dir, target_file))\n",
    "                tf = tarfile.open(url.split('/')[-1])\n",
    "                tf.extractall(data_dir)\n",
    "            else:\n",
    "                logging.info(\"Already downloaded URL: {}\".format(url))\n",
    "                \n",
    "    except Exception as e:\n",
    "        logging.error(\"Error in Downloading URL: {}\".format(url))\n",
    "        raise e\n",
    "        \n",
    "def get_annotations(file_path: str):\n",
    "    \n",
    "    try:\n",
    "        annotations = {}\n",
    "    \n",
    "        with open(file_path, 'r') as f:\n",
    "            rows = f.read().splitlines()\n",
    "            \n",
    "        for i, row in enumerate(rows):\n",
    "            image_name, _, _, _ = row.split(' ')\n",
    "            class_name = image_name.split(' ')[-1]\n",
    "            class_name = '_'.join(class_name)\n",
    "            image_name = image_name+'.jpg'\n",
    "            annotations[image_name] = class_name\n",
    "            \n",
    "        logging.info(\"image created\")\n",
    "        \n",
    "        return annotations, i + 1\n",
    "    except Exception as e:\n",
    "        logging.error(\"Error in image creation\")\n",
    "        raise e    \n",
    "        \n",
    "        \n"
   ]
  },
  {
   "cell_type": "code",
   "execution_count": null,
   "id": "5653db5a-99c0-460a-8e31-90ad11036694",
   "metadata": {},
   "outputs": [],
   "source": [
    "if not os.path.isdir('data'):\n",
    "    os.mkdir('data')\n",
    "    \n",
    "download_and_extract('data', '.')"
   ]
  },
  {
   "cell_type": "code",
   "execution_count": null,
   "id": "8cf6679d-4ff9-4ab3-be2d-ec481561b706",
   "metadata": {},
   "outputs": [],
   "source": [
    "train_annotations, _ = get_annotations('data/annotations/trainval.txt')\n",
    "test_annotations, _ = get_annotations('data/annotations/test.txt')"
   ]
  },
  {
   "cell_type": "code",
   "execution_count": null,
   "id": "f2dbf5ee-ff27-4309-a23d-860b19529ff2",
   "metadata": {},
   "outputs": [],
   "source": [
    "len(test_annotations.keys())"
   ]
  },
  {
   "cell_type": "markdown",
   "id": "c0a183b4-aff0-467e-acc1-1451a6db9230",
   "metadata": {},
   "source": [
    "Split Data into Train and Test"
   ]
  },
  {
   "cell_type": "code",
   "execution_count": null,
   "id": "6adb7527-76b9-4cce-bd2c-c7cfc4cbb992",
   "metadata": {},
   "outputs": [],
   "source": [
    "all_annotations = {}\n",
    "\n",
    "for key, value in train_annotations.items():\n",
    "    all_annotations[key] = value\n",
    "    \n",
    "for key, value in test_annotations.items():\n",
    "    all_annotations[key] = value"
   ]
  },
  {
   "cell_type": "code",
   "execution_count": null,
   "id": "4f41e77e-e523-4a1e-bccd-376048aa0154",
   "metadata": {},
   "outputs": [],
   "source": [
    "train_annotations = {}\n",
    "test_annotations = {}\n",
    "\n",
    "for key, value in all_annotations.items():\n",
    "    if random.randint(0, 99) < 20:\n",
    "        test_annotations[key] = value\n",
    "    else:\n",
    "        train_annotations[key] = value"
   ]
  },
  {
   "cell_type": "code",
   "execution_count": null,
   "id": "32615050-0637-4fcf-b514-1a1fb25fec26",
   "metadata": {},
   "outputs": [],
   "source": [
    "train_count = len(list(train_annotations.keys()))\n",
    "test_count = len(list(test_annotations.keys()))\n",
    "\n",
    "print(train_count, test_count)"
   ]
  },
  {
   "cell_type": "markdown",
   "id": "9dd80b73-8954-4e45-ac5f-da64cf9e305a",
   "metadata": {},
   "source": [
    "Visualize Data¶"
   ]
  },
  {
   "cell_type": "code",
   "execution_count": null,
   "id": "7086b8a6-30d6-4875-b914-3cdd651098dc",
   "metadata": {},
   "outputs": [],
   "source": [
    "classes = list(all_annotations.values())\n",
    "classes = list(set(classes))\n",
    "\n",
    "print (\"num of classes {}\".format(len(classes)))"
   ]
  },
  {
   "cell_type": "code",
   "execution_count": null,
   "id": "bfc1d8a3-7708-48d8-b4f7-d75ddc5bb892",
   "metadata": {},
   "outputs": [],
   "source": [
    "plt.figure(figsize=(8, 8))\n",
    "\n",
    "train_images = list(train_annotations.keys())\n",
    "\n",
    "for i in range(0, 8):\n",
    "    plt.subplot(2, 4, i + 1)\n",
    "    image = train_images[random.randint(0, train_count - 1)]\n",
    "    plt.imshow(plt.imread(os.path.join('data/images', image)))\n",
    "    plt.xlabel(train_annotations[image])\n",
    "plt.show()"
   ]
  },
  {
   "cell_type": "markdown",
   "id": "47fe41c8-8fb3-4b0b-a5da-f7bb90284bc7",
   "metadata": {},
   "source": [
    "Sagemaker Setup"
   ]
  },
  {
   "cell_type": "code",
   "execution_count": null,
   "id": "15e50bf1-63d6-4d08-acbc-63294bb93894",
   "metadata": {},
   "outputs": [],
   "source": [
    "role = sagemaker.get_execution_role()\n",
    "bucket_name = 'petdata-micheal'\n",
    "training_image = get_image_uri(boto3.Session().region_name, 'image-classification', repo_version = 'latest')\n",
    "print(training_image)"
   ]
  },
  {
   "cell_type": "code",
   "execution_count": null,
   "id": "6323ff1c-db26-49ef-b309-080cd90b7d18",
   "metadata": {},
   "outputs": [],
   "source": [
    "folders =['train', 'train_lst', 'validation', 'validation_lst']\n",
    "\n",
    "for folder in folders:\n",
    "    if os.path.isdir(folder):\n",
    "        shutil.rmtree(folder)\n",
    "    os.mkdir(folder)"
   ]
  },
  {
   "cell_type": "markdown",
   "id": "09280496-7ce4-4018-837a-841c48b2ed31",
   "metadata": {},
   "source": [
    "Preparing Data for SageMaker"
   ]
  },
  {
   "cell_type": "code",
   "execution_count": null,
   "id": "959d1c4e-b5e2-4a06-bccc-6fda29eb2178",
   "metadata": {},
   "outputs": [],
   "source": [
    "def prepare_data(annotations, key='train'):\n",
    "    try:\n",
    "        images = list(annotations.keys())\n",
    "        f = open(os.path.join(key + '_lst', key + '.lst'), 'w')\n",
    "        with tqdm(total=len(images)) as pbar:\n",
    "            for i, image in enumerate(images):\n",
    "                shutil.copy(os.path.join('data/images/',image), os.path.join(key, image))\n",
    "                class_id = classes.index(annotations[image])\n",
    "                f.write('{}\\t{}\\t{}\\n'.format(i, class_id, image))\n",
    "                pbar.update(1)\n",
    "        f.close()\n",
    "        logging.info(\"COpy the Train and Test in to thier folders\")\n",
    "    except Exception as e:\n",
    "        logging.error(\"Error in copy the image\")\n",
    "        raise e            \n",
    "    "
   ]
  },
  {
   "cell_type": "code",
   "execution_count": null,
   "id": "2ef73ed0-8d92-4f50-837f-74d29a48777d",
   "metadata": {},
   "outputs": [],
   "source": [
    "prepare_data(train_annotations, 'train')\n"
   ]
  },
  {
   "cell_type": "code",
   "execution_count": null,
   "id": "acfb23ea-a501-45dc-bb14-75a07aa9c952",
   "metadata": {},
   "outputs": [],
   "source": [
    "prepare_data(test_annotations, 'validation')"
   ]
  },
  {
   "cell_type": "markdown",
   "id": "a944eb42-0c6f-42b3-bc81-661a70f3c2ad",
   "metadata": {},
   "source": [
    "Uploading Data to S3"
   ]
  },
  {
   "cell_type": "code",
   "execution_count": null,
   "id": "ad40ce04-1f0d-4b6d-b907-4a89d5cb0c86",
   "metadata": {},
   "outputs": [],
   "source": [
    "%%time\n",
    "sess = sagemaker.Session()\n",
    "s3_train_path = sess.upload_data(path='train', bucket=bucket_name, key_prefix='train')\n",
    "s3_train_lst_path = sess.upload_data(path='train_lst', bucket=bucket_name, key_prefix='train_lst')\n",
    "s3_validation_path = sess.upload_data(path='validation', bucket=bucket_name, key_prefix='validation')\n",
    "s3_validation_lst_path = sess.upload_data(path='validation_lst', bucket=bucket_name, key_prefix='validation_lst')"
   ]
  },
  {
   "cell_type": "markdown",
   "id": "e59e47a8-020a-4688-8374-9a436209ea6c",
   "metadata": {},
   "source": [
    "SageMaker Estimator"
   ]
  },
  {
   "cell_type": "code",
   "execution_count": null,
   "id": "8023995e-e8cc-49bc-b12b-637b1df211df",
   "metadata": {},
   "outputs": [],
   "source": [
    "model = sagemaker.estimator.Estimator(\n",
    "training_image,\n",
    "    role=role,\n",
    "    train_instance_count=1,\n",
    "    train_instance_type='ml.r5.12xlarge',\n",
    "    train_volume_size=100,\n",
    "    train_max_run=36000,\n",
    "    input_mode='File',\n",
    "    output_path='s3://petdata-micheal/output',\n",
    "    sagemaker_session=sess\n",
    "    \n",
    ")"
   ]
  },
  {
   "cell_type": "markdown",
   "id": "f844a977-2768-43a7-bcad-330054e0eb10",
   "metadata": {},
   "source": [
    "Hyperparameters"
   ]
  },
  {
   "cell_type": "code",
   "execution_count": null,
   "id": "17a8f32c-6e29-40d7-8f32-25968c710bc6",
   "metadata": {},
   "outputs": [],
   "source": [
    "model.set_hyperparameters(\n",
    "    num_layers=18,\n",
    "    use_pretrained_model=1,\n",
    "    image_shape='3,224,224',\n",
    "    num_classes=37,\n",
    "    mini_batch_size=32,\n",
    "    resize=224,\n",
    "    epochs=10,\n",
    "    learning_rate=0.001,\n",
    "    num_training_samples=train_count,\n",
    "    augmentation_type='crop_color_transform'\n",
    ")"
   ]
  },
  {
   "cell_type": "markdown",
   "id": "15248c2c-25a4-430c-9a98-d08e0b5f9844",
   "metadata": {},
   "source": [
    "Data Channels"
   ]
  },
  {
   "cell_type": "code",
   "execution_count": null,
   "id": "11562337-a039-46ee-b55e-3a9523a346eb",
   "metadata": {},
   "outputs": [],
   "source": [
    "train_data=sagemaker.session.s3_input(\n",
    "    s3_train_path,\n",
    "    distribution='FullyReplicated',\n",
    "    content_type='application/x-image',\n",
    "    s3_data_type='S3Prefix'\n",
    ")\n",
    "\n",
    "validation_data=sagemaker.session.s3_input(\n",
    "    s3_validation_path,\n",
    "    distribution='FullyReplicated',\n",
    "    content_type='application/x-image',\n",
    "    s3_data_type='S3Prefix'\n",
    ")\n",
    "\n",
    "train_lst_data=sagemaker.session.s3_input(\n",
    "    s3_train_lst_path,\n",
    "    distribution='FullyReplicated',\n",
    "    content_type='application/x-image',\n",
    "    s3_data_type='S3Prefix'\n",
    ")\n",
    "\n",
    "validation_lst_data=sagemaker.session.s3_input(\n",
    "    s3_validation_lst_path,\n",
    "    distribution='FullyReplicated',\n",
    "    content_type='application/x-image',\n",
    "    s3_data_type='S3Prefix'\n",
    ")"
   ]
  },
  {
   "cell_type": "code",
   "execution_count": null,
   "id": "ef5dff2c-901a-4711-824d-0cfb35420700",
   "metadata": {},
   "outputs": [],
   "source": [
    "data_channels = {\n",
    "    'train': train_data,\n",
    "    'train_lst': train_lst_data,\n",
    "    'validation': validation_data,\n",
    "    'validation_lst': validation_lst_data\n",
    "}"
   ]
  },
  {
   "cell_type": "markdown",
   "id": "d656e459-c068-4cfd-ab94-717cbe5a99d4",
   "metadata": {},
   "source": [
    "Model Training"
   ]
  },
  {
   "cell_type": "code",
   "execution_count": null,
   "id": "9e91b8a4-d586-46a9-820c-107f40fa39a8",
   "metadata": {},
   "outputs": [],
   "source": [
    "model.fit(inputs=data_channels, logs=True)"
   ]
  },
  {
   "cell_type": "markdown",
   "id": "c2f6ae28-eb18-4f72-aba8-4c6047cf35c5",
   "metadata": {},
   "source": [
    "Deploy Model"
   ]
  },
  {
   "cell_type": "code",
   "execution_count": null,
   "id": "39aed29f-5af7-427d-a162-f0eb5a12ab7c",
   "metadata": {},
   "outputs": [],
   "source": [
    "deployed_model = model.deploy(initial_instance_count=1, instance_type='ml.m4.xlarge')\n",
    "print('\\nModel deployed!!')"
   ]
  },
  {
   "cell_type": "markdown",
   "id": "e2784a4e-8889-419c-b986-94a45bc0ab9d",
   "metadata": {},
   "source": [
    "Predictions¶"
   ]
  },
  {
   "cell_type": "code",
   "execution_count": null,
   "id": "eca57c73-97f1-4774-9b63-91c4f04db091",
   "metadata": {},
   "outputs": [],
   "source": [
    "image_dir = 'validation'\n",
    "images = [x for x in os.listdir(image_dir) if x[-3:] == 'jpg']\n",
    "print(len(images))"
   ]
  },
  {
   "cell_type": "code",
   "execution_count": null,
   "id": "52c9aa3d-0c22-4662-925e-186685542d29",
   "metadata": {},
   "outputs": [],
   "source": [
    "deployed_model.content_type = 'image/jpeg'"
   ]
  },
  {
   "cell_type": "code",
   "execution_count": null,
   "id": "633d56be-7e42-4060-94ac-ff9bbec8a1c7",
   "metadata": {},
   "outputs": [],
   "source": [
    "index = 0\n",
    "\n",
    "image_path = os.path.join(image_dir, images[index])\n",
    "with open(image_path, 'rb') as f:\n",
    "    b = bytearray(f.read())\n",
    "    \n",
    "results = deployed_model.predict(b)\n",
    "results = json.loads(results)\n",
    "print(results)"
   ]
  },
  {
   "cell_type": "code",
   "execution_count": null,
   "id": "f1861bf3-018e-4205-a84a-6966661a1fa6",
   "metadata": {},
   "outputs": [],
   "source": [
    "classes[np.argmax(results)]"
   ]
  },
  {
   "cell_type": "code",
   "execution_count": null,
   "id": "c4e319f5-8a80-4aa9-9425-6ad660a1e18a",
   "metadata": {},
   "outputs": [],
   "source": [
    "plt.imshow(plt.imread(image_path))\n",
    "plt.xlabel(images[index])\n",
    "plt.show()"
   ]
  },
  {
   "cell_type": "code",
   "execution_count": null,
   "id": "0e5f0a0c-47fa-46c2-b577-4b9441699b16",
   "metadata": {},
   "outputs": [],
   "source": []
  },
  {
   "cell_type": "code",
   "execution_count": null,
   "id": "2fcc696c-d5b8-430f-8e76-2bdd5b6c26c8",
   "metadata": {},
   "outputs": [],
   "source": []
  },
  {
   "cell_type": "code",
   "execution_count": null,
   "id": "e75f0318-8d9e-428e-aff1-b364e9848f3b",
   "metadata": {},
   "outputs": [],
   "source": [
    "Sagemaker.Session().delete_endpoint(deployed_model.endpoint)"
   ]
  },
  {
   "cell_type": "code",
   "execution_count": null,
   "id": "b61da492-8f97-4847-a2c1-abda6e414516",
   "metadata": {},
   "outputs": [],
   "source": []
  },
  {
   "cell_type": "code",
   "execution_count": null,
   "id": "c45209e8-7d5c-4894-a943-719e1c3561ac",
   "metadata": {},
   "outputs": [],
   "source": []
  },
  {
   "cell_type": "code",
   "execution_count": null,
   "id": "56ebac3a-64fa-4c00-8309-cddd91a65081",
   "metadata": {},
   "outputs": [],
   "source": []
  },
  {
   "cell_type": "code",
   "execution_count": null,
   "id": "5cf1bc13-3f62-4b87-aa2d-03379093ccc2",
   "metadata": {},
   "outputs": [],
   "source": []
  },
  {
   "cell_type": "code",
   "execution_count": null,
   "id": "7376977d-628d-4166-9c7c-036d62d346cc",
   "metadata": {},
   "outputs": [],
   "source": []
  },
  {
   "cell_type": "code",
   "execution_count": null,
   "id": "ebd82245-181d-40d5-9c1d-364c68428044",
   "metadata": {},
   "outputs": [],
   "source": []
  },
  {
   "cell_type": "code",
   "execution_count": null,
   "id": "ad1edf3f-662d-4d17-887e-bdedb9cba694",
   "metadata": {},
   "outputs": [],
   "source": []
  },
  {
   "cell_type": "code",
   "execution_count": null,
   "id": "6f46e3b4-06da-4512-a4b4-b8e33cf8cb64",
   "metadata": {},
   "outputs": [],
   "source": []
  },
  {
   "cell_type": "code",
   "execution_count": null,
   "id": "30eb3e26-d98f-4bdd-ae60-de47742f82fe",
   "metadata": {},
   "outputs": [],
   "source": []
  },
  {
   "cell_type": "code",
   "execution_count": null,
   "id": "2aa62880-d123-4d38-878f-c6662345b498",
   "metadata": {},
   "outputs": [],
   "source": []
  },
  {
   "cell_type": "code",
   "execution_count": null,
   "id": "3e179f13-57b9-4073-83aa-6298a54ae7f4",
   "metadata": {},
   "outputs": [],
   "source": []
  },
  {
   "cell_type": "code",
   "execution_count": null,
   "id": "c43074b8-dd20-4bb8-824e-e053ac108cab",
   "metadata": {},
   "outputs": [],
   "source": []
  },
  {
   "cell_type": "code",
   "execution_count": null,
   "id": "773873b1-02fa-442a-ae43-33991fb7b6b7",
   "metadata": {},
   "outputs": [],
   "source": []
  },
  {
   "cell_type": "code",
   "execution_count": null,
   "id": "5c2c5e7d-9fe4-4103-a17b-6a493f5e415f",
   "metadata": {},
   "outputs": [],
   "source": []
  },
  {
   "cell_type": "code",
   "execution_count": null,
   "id": "2ad18132-6d11-4a42-bdb1-d990517a523c",
   "metadata": {},
   "outputs": [],
   "source": []
  },
  {
   "cell_type": "code",
   "execution_count": null,
   "id": "9ccf57e7-f261-471b-8b09-d7d999e4c027",
   "metadata": {},
   "outputs": [],
   "source": []
  }
 ],
 "metadata": {
  "kernelspec": {
   "display_name": "Python 3 (ipykernel)",
   "language": "python",
   "name": "python3"
  },
  "language_info": {
   "codemirror_mode": {
    "name": "ipython",
    "version": 3
   },
   "file_extension": ".py",
   "mimetype": "text/x-python",
   "name": "python",
   "nbconvert_exporter": "python",
   "pygments_lexer": "ipython3",
   "version": "3.11.8"
  }
 },
 "nbformat": 4,
 "nbformat_minor": 5
}
